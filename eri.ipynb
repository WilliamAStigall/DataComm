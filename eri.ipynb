{
 "cells": [
  {
   "cell_type": "code",
   "execution_count": 32,
   "metadata": {},
   "outputs": [],
   "source": [
    "import pandas as pd\n",
    "import numpy as np\n",
    "import scipy.stats as stats\n",
    "import matplotlib.pyplot as plt\n",
    "import seaborn as sns\n",
    "\n"
   ]
  },
  {
   "cell_type": "code",
   "execution_count": 33,
   "metadata": {},
   "outputs": [
    {
     "name": "stderr",
     "output_type": "stream",
     "text": [
      "C:\\Users\\WillR\\AppData\\Local\\Temp\\ipykernel_25940\\271399869.py:1: DtypeWarning: Columns (25,41,45) have mixed types. Specify dtype option on import or set low_memory=False.\n",
      "  df = pd.read_csv(\"nba_games.csv\")\n"
     ]
    },
    {
     "name": "stdout",
     "output_type": "stream",
     "text": [
      "float64\n",
      "float64\n"
     ]
    }
   ],
   "source": [
    "df = pd.read_csv(\"nba_games.csv\")\n",
    "df.dropna(inplace=True)\n",
    "\n",
    "print(df['home'].dtype)\n",
    "print(df['season'].dtype)\n",
    "df['season'] = df['season'].astype(int)\n",
    "# Count NaN values in the 'ortg' and 'won' columns\n",
    "nan_count_ortg = df['ortg'].isna().sum()\n",
    "nan_count_won = df['won'].isna().sum()\n",
    "df.dropna(inplace=True)"
   ]
  },
  {
   "cell_type": "code",
   "execution_count": 34,
   "metadata": {},
   "outputs": [
    {
     "name": "stdout",
     "output_type": "stream",
     "text": [
      "       Unnamed: 0       Id    fg   fga    3p   3pa    ft   fta   orb   drb  \\\n",
      "198           198    198.0  47.0  86.0  17.0  35.0  21.0  26.0  13.0  27.0   \n",
      "438           438    438.0  45.0  88.0  12.0  26.0  22.0  24.0   8.0  36.0   \n",
      "486           486    486.0  31.0  74.0   8.0  25.0  24.0  28.0  12.0  30.0   \n",
      "590           590    590.0  45.0  90.0  18.0  33.0  22.0  28.0  13.0  34.0   \n",
      "742           742    742.0  43.0  93.0   9.0  29.0  19.0  21.0  13.0  27.0   \n",
      "...           ...      ...   ...   ...   ...   ...   ...   ...   ...   ...   \n",
      "17286       17286  17286.0  40.0  96.0   8.0  30.0  14.0  17.0  21.0  34.0   \n",
      "17435       17435  17435.0  41.0  89.0  12.0  31.0  14.0  20.0   9.0  34.0   \n",
      "17538       17538  17538.0  38.0  82.0  17.0  43.0  20.0  26.0   3.0  32.0   \n",
      "17635       17635  17635.0  31.0  76.0  10.0  28.0  24.0  30.0  11.0  36.0   \n",
      "17748       17748  17748.0  44.0  86.0  16.0  33.0  10.0  12.0   7.0  34.0   \n",
      "\n",
      "       ...  3par_max  ftr_max  ortg_max  drtg_max  team  total  home  season  \\\n",
      "198    ...     0.769    1.000     172.0     137.0   ATL  132.0   0.0    2022   \n",
      "438    ...     0.714    2.000     236.0     121.0   ATL  124.0   0.0    2022   \n",
      "486    ...     0.556    1.000     142.0     112.0   ATL   94.0   0.0    2022   \n",
      "590    ...     1.000    0.800     200.0     120.0   ATL  130.0   0.0    2022   \n",
      "742    ...     0.692    1.000     146.0     138.0   ATL  114.0   0.0    2022   \n",
      "...    ...       ...      ...       ...       ...   ...    ...   ...     ...   \n",
      "17286  ...     1.000    1.000     172.0     112.0   ATL  102.0   0.0    2022   \n",
      "17435  ...     1.000    1.000     300.0     112.0   ATL  108.0   1.0    2022   \n",
      "17538  ...     1.000    4.000     284.0     128.0   ATL  113.0   0.0    2022   \n",
      "17635  ...     1.000    0.625     212.0     113.0   ATL   96.0   1.0    2022   \n",
      "17748  ...     1.000    0.500     147.0     121.0   ATL  114.0   0.0    2022   \n",
      "\n",
      "             date    won  \n",
      "198    2022-03-28   True  \n",
      "438    2021-11-24   True  \n",
      "486    2022-04-26  False  \n",
      "590    2022-02-16   True  \n",
      "742    2022-02-04  False  \n",
      "...           ...    ...  \n",
      "17286  2021-10-27   True  \n",
      "17435  2022-01-28   True  \n",
      "17538  2021-11-08  False  \n",
      "17635  2021-12-03  False  \n",
      "17748  2021-12-01   True  \n",
      "\n",
      "[89 rows x 47 columns]\n",
      "       Unnamed: 0       Id    fg   fga    3p   3pa    ft   fta   orb   drb  \\\n",
      "12             12     12.0  48.0  95.0  15.0  38.0  14.0  15.0  16.0  32.0   \n",
      "13             13     13.0  48.0  92.0  14.0  32.0  26.0  31.0  10.0  27.0   \n",
      "16             16     16.0  35.0  85.0   7.0  27.0  25.0  31.0  13.0  24.0   \n",
      "17             17     17.0  47.0  84.0  11.0  25.0  24.0  26.0  10.0  39.0   \n",
      "26             26     26.0  34.0  80.0   8.0  28.0  20.0  22.0   8.0  33.0   \n",
      "...           ...      ...   ...   ...   ...   ...   ...   ...   ...   ...   \n",
      "17720       17720  17720.0  36.0  70.0   9.0  27.0  17.0  23.0   6.0  30.0   \n",
      "17721       17721  17721.0  39.0  85.0  10.0  34.0  19.0  23.0  11.0  29.0   \n",
      "17749       17749  17749.0  44.0  90.0  10.0  33.0  13.0  16.0   8.0  32.0   \n",
      "17758       17758  17758.0  51.0  87.0  11.0  27.0  22.0  30.0  11.0  40.0   \n",
      "17759       17759  17759.0  38.0  82.0   9.0  25.0  23.0  34.0   5.0  27.0   \n",
      "\n",
      "       ...  3par_max  ftr_max  ortg_max  drtg_max  team  total  home  season  \\\n",
      "12     ...     0.700    1.000     186.0     140.0   BRK  125.0   0.0    2022   \n",
      "13     ...     0.500    1.333     250.0     136.0   MIN  136.0   1.0    2022   \n",
      "16     ...     1.000    2.000     209.0     143.0   CHI  102.0   0.0    2022   \n",
      "17     ...     1.000    2.000     186.0     116.0   PHO  129.0   1.0    2022   \n",
      "26     ...     0.833    0.667     125.0     124.0   PHI   96.0   0.0    2022   \n",
      "...    ...       ...      ...       ...       ...   ...    ...   ...     ...   \n",
      "17720  ...     1.000    0.824     136.0     129.0   PHI   98.0   0.0    2022   \n",
      "17721  ...     1.000    0.429     200.0     118.0   DAL  107.0   1.0    2022   \n",
      "17749  ...     1.000    0.400     174.0     127.0   IND  111.0   1.0    2022   \n",
      "17758  ...     1.000    1.333     183.0     113.0   PHO  135.0   0.0    2022   \n",
      "17759  ...     0.667    1.625     154.0     138.0   DET  108.0   1.0    2022   \n",
      "\n",
      "             date    won  \n",
      "12     2022-01-23  False  \n",
      "13     2022-01-23   True  \n",
      "16     2022-03-18  False  \n",
      "17     2022-03-18   True  \n",
      "26     2021-11-24  False  \n",
      "...           ...    ...  \n",
      "17720  2022-02-04  False  \n",
      "17721  2022-02-04   True  \n",
      "17749  2021-12-01  False  \n",
      "17758  2022-01-16   True  \n",
      "17759  2022-01-16  False  \n",
      "\n",
      "[2557 rows x 47 columns]\n"
     ]
    }
   ],
   "source": [
    "\n",
    "hawks_df = df[(df.team == 'ATL') & (df.season == 2022)]\n",
    "remaining = df[(df.team !=  'ATL') & (df.season == 2022)]\n",
    "print(hawks_df)\n",
    "print(remaining)\n",
    "#ponts, home away, fg, fga\n"
   ]
  },
  {
   "cell_type": "code",
   "execution_count": 35,
   "metadata": {},
   "outputs": [
    {
     "name": "stdout",
     "output_type": "stream",
     "text": [
      "       Unnamed: 0       Id    fg   fga    3p   3pa    ft   fta   orb   drb  \\\n",
      "198           198    198.0  47.0  86.0  17.0  35.0  21.0  26.0  13.0  27.0   \n",
      "438           438    438.0  45.0  88.0  12.0  26.0  22.0  24.0   8.0  36.0   \n",
      "486           486    486.0  31.0  74.0   8.0  25.0  24.0  28.0  12.0  30.0   \n",
      "590           590    590.0  45.0  90.0  18.0  33.0  22.0  28.0  13.0  34.0   \n",
      "742           742    742.0  43.0  93.0   9.0  29.0  19.0  21.0  13.0  27.0   \n",
      "...           ...      ...   ...   ...   ...   ...   ...   ...   ...   ...   \n",
      "17286       17286  17286.0  40.0  96.0   8.0  30.0  14.0  17.0  21.0  34.0   \n",
      "17435       17435  17435.0  41.0  89.0  12.0  31.0  14.0  20.0   9.0  34.0   \n",
      "17538       17538  17538.0  38.0  82.0  17.0  43.0  20.0  26.0   3.0  32.0   \n",
      "17635       17635  17635.0  31.0  76.0  10.0  28.0  24.0  30.0  11.0  36.0   \n",
      "17748       17748  17748.0  44.0  86.0  16.0  33.0  10.0  12.0   7.0  34.0   \n",
      "\n",
      "       ...  3par_max  ftr_max  ortg_max  drtg_max  team  total  home  season  \\\n",
      "198    ...     0.769    1.000     172.0     137.0   ATL  132.0   0.0    2022   \n",
      "438    ...     0.714    2.000     236.0     121.0   ATL  124.0   0.0    2022   \n",
      "486    ...     0.556    1.000     142.0     112.0   ATL   94.0   0.0    2022   \n",
      "590    ...     1.000    0.800     200.0     120.0   ATL  130.0   0.0    2022   \n",
      "742    ...     0.692    1.000     146.0     138.0   ATL  114.0   0.0    2022   \n",
      "...    ...       ...      ...       ...       ...   ...    ...   ...     ...   \n",
      "17286  ...     1.000    1.000     172.0     112.0   ATL  102.0   0.0    2022   \n",
      "17435  ...     1.000    1.000     300.0     112.0   ATL  108.0   1.0    2022   \n",
      "17538  ...     1.000    4.000     284.0     128.0   ATL  113.0   0.0    2022   \n",
      "17635  ...     1.000    0.625     212.0     113.0   ATL   96.0   1.0    2022   \n",
      "17748  ...     1.000    0.500     147.0     121.0   ATL  114.0   0.0    2022   \n",
      "\n",
      "             date    won  \n",
      "198    2022-03-28   True  \n",
      "438    2021-11-24   True  \n",
      "486    2022-04-26  False  \n",
      "590    2022-02-16   True  \n",
      "742    2022-02-04  False  \n",
      "...           ...    ...  \n",
      "17286  2021-10-27   True  \n",
      "17435  2022-01-28   True  \n",
      "17538  2021-11-08  False  \n",
      "17635  2021-12-03  False  \n",
      "17748  2021-12-01   True  \n",
      "\n",
      "[89 rows x 47 columns]\n",
      "       Unnamed: 0       Id    fg   fga    3p   3pa    ft   fta   orb   drb  \\\n",
      "12             12     12.0  48.0  95.0  15.0  38.0  14.0  15.0  16.0  32.0   \n",
      "13             13     13.0  48.0  92.0  14.0  32.0  26.0  31.0  10.0  27.0   \n",
      "16             16     16.0  35.0  85.0   7.0  27.0  25.0  31.0  13.0  24.0   \n",
      "17             17     17.0  47.0  84.0  11.0  25.0  24.0  26.0  10.0  39.0   \n",
      "26             26     26.0  34.0  80.0   8.0  28.0  20.0  22.0   8.0  33.0   \n",
      "...           ...      ...   ...   ...   ...   ...   ...   ...   ...   ...   \n",
      "17720       17720  17720.0  36.0  70.0   9.0  27.0  17.0  23.0   6.0  30.0   \n",
      "17721       17721  17721.0  39.0  85.0  10.0  34.0  19.0  23.0  11.0  29.0   \n",
      "17749       17749  17749.0  44.0  90.0  10.0  33.0  13.0  16.0   8.0  32.0   \n",
      "17758       17758  17758.0  51.0  87.0  11.0  27.0  22.0  30.0  11.0  40.0   \n",
      "17759       17759  17759.0  38.0  82.0   9.0  25.0  23.0  34.0   5.0  27.0   \n",
      "\n",
      "       ...  3par_max  ftr_max  ortg_max  drtg_max  team  total  home  season  \\\n",
      "12     ...     0.700    1.000     186.0     140.0   BRK  125.0   0.0    2022   \n",
      "13     ...     0.500    1.333     250.0     136.0   MIN  136.0   1.0    2022   \n",
      "16     ...     1.000    2.000     209.0     143.0   CHI  102.0   0.0    2022   \n",
      "17     ...     1.000    2.000     186.0     116.0   PHO  129.0   1.0    2022   \n",
      "26     ...     0.833    0.667     125.0     124.0   PHI   96.0   0.0    2022   \n",
      "...    ...       ...      ...       ...       ...   ...    ...   ...     ...   \n",
      "17720  ...     1.000    0.824     136.0     129.0   PHI   98.0   0.0    2022   \n",
      "17721  ...     1.000    0.429     200.0     118.0   DAL  107.0   1.0    2022   \n",
      "17749  ...     1.000    0.400     174.0     127.0   IND  111.0   1.0    2022   \n",
      "17758  ...     1.000    1.333     183.0     113.0   PHO  135.0   0.0    2022   \n",
      "17759  ...     0.667    1.625     154.0     138.0   DET  108.0   1.0    2022   \n",
      "\n",
      "             date    won  \n",
      "12     2022-01-23  False  \n",
      "13     2022-01-23   True  \n",
      "16     2022-03-18  False  \n",
      "17     2022-03-18   True  \n",
      "26     2021-11-24  False  \n",
      "...           ...    ...  \n",
      "17720  2022-02-04  False  \n",
      "17721  2022-02-04   True  \n",
      "17749  2021-12-01  False  \n",
      "17758  2022-01-16   True  \n",
      "17759  2022-01-16  False  \n",
      "\n",
      "[2557 rows x 47 columns]\n"
     ]
    }
   ],
   "source": [
    "#Operatiosn to perform, get the plus ansd minus for each stat,\n",
    "#Descriptive Stats for Teaam points per home and away game, vs Legue points per home and away game\n",
    "#Run for blk, and tov fg, orb, drb, stl, ast\n",
    "\n",
    "hawks_df = df[(df.team == 'ATL') & (df.season == 2022)]\n",
    "remaining = df[(df.team !=  'ATL') & (df.season == 2022)]\n",
    "print(hawks_df)\n",
    "print(remaining)\n",
    "\n"
   ]
  },
  {
   "cell_type": "code",
   "execution_count": null,
   "metadata": {},
   "outputs": [],
   "source": []
  },
  {
   "cell_type": "code",
   "execution_count": 36,
   "metadata": {},
   "outputs": [],
   "source": [
    "#Boxplot of the game wise defensive and offensive ratings against the rest of the league."
   ]
  },
  {
   "cell_type": "code",
   "execution_count": 37,
   "metadata": {},
   "outputs": [
    {
     "name": "stdout",
     "output_type": "stream",
     "text": [
      "count     45.000000\n",
      "mean     110.155556\n",
      "std       12.576955\n",
      "min       87.000000\n",
      "25%       98.000000\n",
      "50%      110.000000\n",
      "75%      117.000000\n",
      "max      136.000000\n",
      "Name: total, dtype: float64\n",
      "count     44.000000\n",
      "mean     116.181818\n",
      "std       12.272625\n",
      "min       86.000000\n",
      "25%      110.000000\n",
      "50%      119.000000\n",
      "75%      124.500000\n",
      "max      134.000000\n",
      "Name: total, dtype: float64\n",
      "count    1278.000000\n",
      "mean      109.351330\n",
      "std        12.735403\n",
      "min        75.000000\n",
      "25%       101.000000\n",
      "50%       109.000000\n",
      "75%       117.000000\n",
      "max       158.000000\n",
      "Name: total, dtype: float64\n",
      "count    1279.000000\n",
      "mean      111.096169\n",
      "std        12.403719\n",
      "min        77.000000\n",
      "25%       103.000000\n",
      "50%       111.000000\n",
      "75%       119.000000\n",
      "max       153.000000\n",
      "Name: total, dtype: float64\n"
     ]
    },
    {
     "ename": "TypeError",
     "evalue": "unsupported format string passed to Series.__format__",
     "output_type": "error",
     "traceback": [
      "\u001b[1;31m---------------------------------------------------------------------------\u001b[0m",
      "\u001b[1;31mTypeError\u001b[0m                                 Traceback (most recent call last)",
      "Cell \u001b[1;32mIn[37], line 15\u001b[0m\n\u001b[0;32m     11\u001b[0m plus_minus_hs \u001b[38;5;241m=\u001b[39m mean_hs_hawks \u001b[38;5;241m-\u001b[39m mean_hs_remaining\n\u001b[0;32m     13\u001b[0m \u001b[38;5;66;03m# Print the values side by side\u001b[39;00m\n\u001b[0;32m     14\u001b[0m \u001b[38;5;66;03m# Print the values side by side, comparing against the league average\u001b[39;00m\n\u001b[1;32m---> 15\u001b[0m \u001b[38;5;28mprint\u001b[39m(\u001b[38;5;124mf\u001b[39m\u001b[38;5;124m'\u001b[39m\u001b[38;5;124mHawks Away Points Average: \u001b[39m\u001b[38;5;132;01m{\u001b[39;00mmean_as_hawks\u001b[38;5;132;01m:\u001b[39;00m\u001b[38;5;124m.2f\u001b[39m\u001b[38;5;132;01m}\u001b[39;00m\u001b[38;5;124m, +/- vs League Average: \u001b[39m\u001b[38;5;132;01m{\u001b[39;00mplus_minus_as\u001b[38;5;132;01m:\u001b[39;00m\u001b[38;5;124m.2f\u001b[39m\u001b[38;5;132;01m}\u001b[39;00m\u001b[38;5;124m'\u001b[39m)\n\u001b[0;32m     16\u001b[0m \u001b[38;5;28mprint\u001b[39m(\u001b[38;5;124mf\u001b[39m\u001b[38;5;124m'\u001b[39m\u001b[38;5;124mHawks Home Points Average: \u001b[39m\u001b[38;5;132;01m{\u001b[39;00mmean_hs_hawks\u001b[38;5;132;01m:\u001b[39;00m\u001b[38;5;124m.2f\u001b[39m\u001b[38;5;132;01m}\u001b[39;00m\u001b[38;5;124m, +/- vs League Average: \u001b[39m\u001b[38;5;132;01m{\u001b[39;00mplus_minus_hs\u001b[38;5;132;01m:\u001b[39;00m\u001b[38;5;124m.2f\u001b[39m\u001b[38;5;132;01m}\u001b[39;00m\u001b[38;5;124m'\u001b[39m)\n",
      "\u001b[1;31mTypeError\u001b[0m: unsupported format string passed to Series.__format__"
     ]
    }
   ],
   "source": [
    "\n",
    "mean_as_hawks = hawks_df.loc[(hawks_df['home'] == 0.0) & (hawks_df['season'] == 2022),'total'].describe()\n",
    "mean_hs_hawks = hawks_df.loc[(hawks_df['home'] == 1.0) & (hawks_df['season'] == 2022),'total'].describe()\n",
    "print(mean_as_hawks)\n",
    "print(mean_hs_hawks)\n",
    "mean_as_remaining = remaining.loc[(remaining['home'] == 0.0) & (remaining['season'] == 2022),'total'].describe()\n",
    "mean_hs_remaining = remaining.loc[(remaining['home'] == 1.0) & (remaining['season'] == 2022),'total'].describe()\n",
    "print(mean_as_remaining)\n",
    "print(mean_hs_remaining)\n",
    "# Calculate the plus-minus values\n",
    "plus_minus_as = mean_as_hawks - mean_as_remaining\n",
    "plus_minus_hs = mean_hs_hawks - mean_hs_remaining\n",
    "\n",
    "# Print the values side by side\n",
    "# Print the values side by side, comparing against the league average\n",
    "print(f'Hawks Away Points Average: {mean_as_hawks:.2f}, +/- vs League Average: {plus_minus_as:.2f}')\n",
    "print(f'Hawks Home Points Average: {mean_hs_hawks:.2f}, +/- vs League Average: {plus_minus_hs:.2f}')\n",
    "\n"
   ]
  },
  {
   "cell_type": "code",
   "execution_count": null,
   "metadata": {},
   "outputs": [
    {
     "name": "stdout",
     "output_type": "stream",
     "text": [
      "3.7333333333333334\n",
      "4.568181818181818\n",
      "4.5641627543036\n",
      "4.875684128225176\n",
      "Hawks Away blk Average: 3.73, +/- vs League Average: -0.83\n",
      "Hawks Home blk Average: 4.57, +/- vs League Average: -0.31\n"
     ]
    }
   ],
   "source": [
    "#Calculate the + and - between the hawks and the league aaverage, then it should be formatted as a table, this will be the hard part but it should be able to be completed soon\n",
    "#columns to cover blh, tov, fg, orb, drb, stl, ast\n",
    "mean_as_hawks = hawks_df.loc[(hawks_df['home'] == 0.0) & (hawks_df['season'] == 2022),'blk'].mean()\n",
    "mean_hs_hawks = hawks_df.loc[(hawks_df['home'] == 1.0) & (hawks_df['season'] == 2022),'blk'].mean()\n",
    "print(mean_as_hawks)\n",
    "print(mean_hs_hawks)\n",
    "mean_as_remaining = remaining.loc[(remaining['home'] == 0.0) & (remaining['season'] == 2022),'blk'].mean()\n",
    "mean_hs_remaining = remaining.loc[(remaining['home'] == 1.0) & (remaining['season'] == 2022),'blk'].mean()\n",
    "print(mean_as_remaining)\n",
    "print(mean_hs_remaining)\n",
    "\n",
    "# Calculate the plus-minus values\n",
    "plus_minus_as = mean_as_hawks - mean_as_remaining\n",
    "plus_minus_hs = mean_hs_hawks - mean_hs_remaining\n",
    "\n",
    "# Print the values side by side\n",
    "# Print the values side by side, comparing against the league average\n",
    "print(f'Hawks Away blk Average: {mean_as_hawks:.2f}, +/- vs League Average: {plus_minus_as:.2f}')\n",
    "print(f'Hawks Home blk Average: {mean_hs_hawks:.2f}, +/- vs League Average: {plus_minus_hs:.2f}')"
   ]
  },
  {
   "cell_type": "code",
   "execution_count": null,
   "metadata": {},
   "outputs": [
    {
     "name": "stdout",
     "output_type": "stream",
     "text": [
      "11.955555555555556\n",
      "11.159090909090908\n",
      "13.2339593114241\n",
      "12.954652071931196\n",
      "Hawks Away Turnovers Average: 11.96, +/- vs League Average: -1.28\n",
      "Hawks Home Turnovers Average: 11.16, +/- vs League Average: -1.80\n"
     ]
    }
   ],
   "source": [
    "mean_as_hawks = hawks_df.loc[(hawks_df['home'] == 0.0) & (hawks_df['season'] == 2022),'tov'].mean()\n",
    "mean_hs_hawks = hawks_df.loc[(hawks_df['home'] == 1.0) & (hawks_df['season'] == 2022),'tov'].mean()\n",
    "print(mean_as_hawks)\n",
    "print(mean_hs_hawks)\n",
    "mean_as_remaining = remaining.loc[(remaining['home'] == 0.0) & (remaining['season'] == 2022),'tov'].mean()\n",
    "mean_hs_remaining = remaining.loc[(remaining['home'] == 1.0) & (remaining['season'] == 2022),'tov'].mean()\n",
    "print(mean_as_remaining)\n",
    "print(mean_hs_remaining)\n",
    "# Calculate the plus-minus values\n",
    "plus_minus_as = mean_as_hawks - mean_as_remaining\n",
    "plus_minus_hs = mean_hs_hawks - mean_hs_remaining\n",
    "\n",
    "# Print the values side by side\n",
    "# Print the values side by side, comparing against the league average\n",
    "print(f'Hawks Away Turnovers Average: {mean_as_hawks:.2f}, +/- vs League Average: {plus_minus_as:.2f}')\n",
    "print(f'Hawks Home Turnovers Average: {mean_hs_hawks:.2f}, +/- vs League Average: {plus_minus_hs:.2f}')\n"
   ]
  },
  {
   "cell_type": "code",
   "execution_count": null,
   "metadata": {},
   "outputs": [
    {
     "name": "stdout",
     "output_type": "stream",
     "text": [
      "40.51111111111111\n",
      "41.77272727272727\n",
      "40.104851330203445\n",
      "40.756841282251756\n",
      "Hawks Away fg Average: 40.51, +/- vs League Average: 0.41\n",
      "Hawks Home fg Average: 41.77, +/- vs League Average: 1.02\n"
     ]
    }
   ],
   "source": [
    "mean_as_hawks = hawks_df.loc[(hawks_df['home'] == 0.0) & (hawks_df['season'] == 2022),'fg'].mean()\n",
    "mean_hs_hawks = hawks_df.loc[(hawks_df['home'] == 1.0) & (hawks_df['season'] == 2022),'fg'].mean()\n",
    "print(mean_as_hawks)\n",
    "print(mean_hs_hawks)\n",
    "mean_as_remaining = remaining.loc[(remaining['home'] == 0.0) & (remaining['season'] == 2022),'fg'].mean()\n",
    "mean_hs_remaining = remaining.loc[(remaining['home'] == 1.0) & (remaining['season'] == 2022),'fg'].mean()\n",
    "print(mean_as_remaining)\n",
    "print(mean_hs_remaining)\n",
    "# Calculate the plus-minus values\n",
    "plus_minus_as = mean_as_hawks - mean_as_remaining\n",
    "plus_minus_hs = mean_hs_hawks - mean_hs_remaining\n",
    "\n",
    "# Print the values side by side\n",
    "# Print the values side by side, comparing against the league average\n",
    "print(f'Hawks Away fg Average: {mean_as_hawks:.2f}, +/- vs League Average: {plus_minus_as:.2f}')\n",
    "print(f'Hawks Home fg Average: {mean_hs_hawks:.2f}, +/- vs League Average: {plus_minus_hs:.2f}')"
   ]
  },
  {
   "cell_type": "code",
   "execution_count": null,
   "metadata": {},
   "outputs": [
    {
     "name": "stdout",
     "output_type": "stream",
     "text": [
      "10.6\n",
      "9.340909090909092\n",
      "10.21283255086072\n",
      "10.349491790461299\n"
     ]
    }
   ],
   "source": [
    "mean_as_hawks = hawks_df.loc[(hawks_df['home'] == 0.0) & (hawks_df['season'] == 2022),'orb'].mean()\n",
    "mean_hs_hawks = hawks_df.loc[(hawks_df['home'] == 1.0) & (hawks_df['season'] == 2022),'orb'].mean()\n",
    "print(mean_as_hawks)\n",
    "print(mean_hs_hawks)\n",
    "mean_as_remaining = remaining.loc[(remaining['home'] == 0.0) & (remaining['season'] == 2022),'orb'].mean()\n",
    "mean_hs_remaining = remaining.loc[(remaining['home'] == 1.0) & (remaining['season'] == 2022),'orb'].mean()\n",
    "print(mean_as_remaining)\n",
    "print(mean_hs_remaining)\n",
    "# Calculate the plus-minus values\n",
    "plus_minus_as = mean_as_hawks - mean_as_remaining\n",
    "plus_minus_hs = mean_hs_hawks - mean_hs_remaining\n",
    "\n",
    "# Print the values side by side\n",
    "# Print the values side by side, comparing against the league average\n",
    "print(f'Hawks Away Offensive Rebound Average: {mean_as_hawks:.2f}, +/- vs League Average: {plus_minus_as:.2f}')\n",
    "print(f'Hawks Home Offensive Rebound Average: {mean_hs_hawks:.2f}, +/- vs League Average: {plus_minus_hs:.2f}')"
   ]
  },
  {
   "cell_type": "code",
   "execution_count": null,
   "metadata": {},
   "outputs": [
    {
     "name": "stdout",
     "output_type": "stream",
     "text": [
      "33.4\n",
      "34.27272727272727\n",
      "33.76369327073552\n",
      "34.28146989835809\n"
     ]
    }
   ],
   "source": [
    "mean_as_hawks = hawks_df.loc[(hawks_df['home'] == 0.0) & (hawks_df['season'] == 2022),'drb'].mean()\n",
    "mean_hs_hawks = hawks_df.loc[(hawks_df['home'] == 1.0) & (hawks_df['season'] == 2022),'drb'].mean()\n",
    "print(mean_as_hawks)\n",
    "print(mean_hs_hawks)\n",
    "mean_as_remaining = remaining.loc[(remaining['home'] == 0.0) & (remaining['season'] == 2022),'drb'].mean()\n",
    "mean_hs_remaining = remaining.loc[(remaining['home'] == 1.0) & (remaining['season'] == 2022),'drb'].mean()\n",
    "print(mean_as_remaining)\n",
    "print(mean_hs_remaining)\n",
    "# Calculate the plus-minus values\n",
    "plus_minus_as = mean_as_hawks - mean_as_remaining\n",
    "plus_minus_hs = mean_hs_hawks - mean_hs_remaining\n",
    "\n",
    "# Print the values side by side\n",
    "# Print the values side by side, comparing against the league average\n",
    "print(f'Hawks Away Defensive Rebound Average: {mean_as_hawks:.2f}, +/- vs League Average: {plus_minus_as:.2f}')\n",
    "print(f'Hawks Home Defensive Rebound Average: {mean_hs_hawks:.2f}, +/- vs League Average: {plus_minus_hs:.2f}')"
   ]
  },
  {
   "cell_type": "code",
   "execution_count": null,
   "metadata": {},
   "outputs": [
    {
     "name": "stdout",
     "output_type": "stream",
     "text": [
      "6.533333333333333\n",
      "7.545454545454546\n",
      "7.61658841940532\n",
      "7.598123534010946\n",
      "Hawks Away stl Average: 6.53, +/- vs League Average: -1.08\n",
      "Hawks Home stl Average: 7.55, +/- vs League Average: -0.05\n"
     ]
    }
   ],
   "source": [
    "mean_as_hawks = hawks_df.loc[(hawks_df['home'] == 0.0) & (hawks_df['season'] == 2022),'stl'].mean()\n",
    "mean_hs_hawks = hawks_df.loc[(hawks_df['home'] == 1.0) & (hawks_df['season'] == 2022),'stl'].mean()\n",
    "print(mean_as_hawks)\n",
    "print(mean_hs_hawks)\n",
    "mean_as_remaining = remaining.loc[(remaining['home'] == 0.0) & (remaining['season'] == 2022),'stl'].mean()\n",
    "mean_hs_remaining = remaining.loc[(remaining['home'] == 1.0) & (remaining['season'] == 2022),'stl'].mean()\n",
    "print(mean_as_remaining)\n",
    "print(mean_hs_remaining)\n",
    "# Calculate the plus-minus values\n",
    "plus_minus_as = mean_as_hawks - mean_as_remaining\n",
    "plus_minus_hs = mean_hs_hawks - mean_hs_remaining\n",
    "\n",
    "# Print the values side by side\n",
    "# Print the values side by side, comparing against the league average\n",
    "print(f'Hawks Away stl Average: {mean_as_hawks:.2f}, +/- vs League Average: {plus_minus_as:.2f}')\n",
    "print(f'Hawks Home stl Average: {mean_hs_hawks:.2f}, +/- vs League Average: {plus_minus_hs:.2f}')"
   ]
  },
  {
   "cell_type": "code",
   "execution_count": null,
   "metadata": {},
   "outputs": [
    {
     "name": "stdout",
     "output_type": "stream",
     "text": [
      "23.355555555555554\n",
      "25.113636363636363\n",
      "24.120500782472615\n",
      "24.947615324472245\n",
      "Hawks Away Assist Average: 23.36, +/- vs League Average: -0.76\n",
      "Hawks Home Assist Average: 25.11, +/- vs League Average: 0.17\n"
     ]
    }
   ],
   "source": [
    "mean_as_hawks = hawks_df.loc[(hawks_df['home'] == 0.0) & (hawks_df['season'] == 2022),'ast'].mean()\n",
    "mean_hs_hawks = hawks_df.loc[(hawks_df['home'] == 1.0) & (hawks_df['season'] == 2022),'ast'].mean()\n",
    "print(mean_as_hawks)\n",
    "print(mean_hs_hawks)\n",
    "mean_as_remaining = remaining.loc[(remaining['home'] == 0.0) & (remaining['season'] == 2022),'ast'].mean()\n",
    "mean_hs_remaining = remaining.loc[(remaining['home'] == 1.0) & (remaining['season'] == 2022),'ast'].mean()\n",
    "print(mean_as_remaining)\n",
    "print(mean_hs_remaining)\n",
    "\n",
    "# Calculate the plus-minus values\n",
    "plus_minus_as = mean_as_hawks - mean_as_remaining\n",
    "plus_minus_hs = mean_hs_hawks - mean_hs_remaining\n",
    "\n",
    "# Print the values side by side\n",
    "# Print the values side by side, comparing against the league average\n",
    "print(f'Hawks Away Assist Average: {mean_as_hawks:.2f}, +/- vs League Average: {plus_minus_as:.2f}')\n",
    "print(f'Hawks Home Assist Average: {mean_hs_hawks:.2f}, +/- vs League Average: {plus_minus_hs:.2f}')"
   ]
  },
  {
   "cell_type": "code",
   "execution_count": null,
   "metadata": {},
   "outputs": [
    {
     "name": "stdout",
     "output_type": "stream",
     "text": [
      "18.755555555555556\n",
      "19.136363636363637\n",
      "19.85133020344288\n",
      "19.745895230648944\n",
      "Hawks Away Average Fouls: 18.76, +/- vs League Average: -1.10\n",
      "Hawks Home Average Fouls: 19.14, +/- vs League Average: -0.61\n"
     ]
    }
   ],
   "source": [
    "mean_as_hawks = hawks_df.loc[(hawks_df['home'] == 0.0) & (hawks_df['season'] == 2022),'pf'].mean()\n",
    "mean_hs_hawks = hawks_df.loc[(hawks_df['home'] == 1.0) & (hawks_df['season'] == 2022),'pf'].mean()\n",
    "print(mean_as_hawks)\n",
    "print(mean_hs_hawks)\n",
    "mean_as_remaining = remaining.loc[(remaining['home'] == 0.0) & (remaining['season'] == 2022),'pf'].mean()\n",
    "mean_hs_remaining = remaining.loc[(remaining['home'] == 1.0) & (remaining['season'] == 2022),'pf'].mean()\n",
    "print(mean_as_remaining)\n",
    "print(mean_hs_remaining)\n",
    "\n",
    "# Calculate the plus-minus values\n",
    "plus_minus_as = mean_as_hawks - mean_as_remaining\n",
    "plus_minus_hs = mean_hs_hawks - mean_hs_remaining\n",
    "\n",
    "# Print the values side by side\n",
    "# Print the values side by side, comparing against the league average\n",
    "print(f'Hawks Away Average Fouls: {mean_as_hawks:.2f}, +/- vs League Average: {plus_minus_as:.2f}')\n",
    "print(f'Hawks Home Average Fouls: {mean_hs_hawks:.2f}, +/- vs League Average: {plus_minus_hs:.2f}')\n"
   ]
  },
  {
   "cell_type": "code",
   "execution_count": null,
   "metadata": {},
   "outputs": [
    {
     "name": "stdout",
     "output_type": "stream",
     "text": [
      "12.177777777777777\n",
      "13.409090909090908\n",
      "12.269953051643192\n",
      "12.548084440969507\n",
      "Hawks Away 3P Average: 12.18, +/- vs League Average: -0.09\n",
      "Hawks Home 3P Average: 13.41, +/- vs League Average: 0.86\n"
     ]
    }
   ],
   "source": [
    "mean_as_hawks = hawks_df.loc[(hawks_df['home'] == 0.0) & (hawks_df['season'] == 2022),'3p'].mean()\n",
    "mean_hs_hawks = hawks_df.loc[(hawks_df['home'] == 1.0) & (hawks_df['season'] == 2022),'3p'].mean()\n",
    "print(mean_as_hawks)\n",
    "print(mean_hs_hawks)\n",
    "mean_as_remaining = remaining.loc[(remaining['home'] == 0.0) & (remaining['season'] == 2022),'3p'].mean()\n",
    "mean_hs_remaining = remaining.loc[(remaining['home'] == 1.0) & (remaining['season'] == 2022),'3p'].mean()\n",
    "print(mean_as_remaining)\n",
    "print(mean_hs_remaining)\n",
    "# Calculate the plus-minus values\n",
    "plus_minus_as = mean_as_hawks - mean_as_remaining\n",
    "plus_minus_hs = mean_hs_hawks - mean_hs_remaining\n",
    "\n",
    "# Print the values side by side\n",
    "# Print the values side by side, comparing against the league average\n",
    "print(f'Hawks Away 3P Average: {mean_as_hawks:.2f}, +/- vs League Average: {plus_minus_as:.2f}')\n",
    "print(f'Hawks Home 3P Average: {mean_hs_hawks:.2f}, +/- vs League Average: {plus_minus_hs:.2f}')"
   ]
  },
  {
   "cell_type": "code",
   "execution_count": 38,
   "metadata": {},
   "outputs": [
    {
     "data": {
      "image/png": "[encoded data removed]",
      "text/plain": [
       "<Figure size 1200x600 with 2 Axes>"
      ]
     },
     "metadata": {},
     "output_type": "display_data"
    }
   ],
   "source": [
    "import matplotlib.pyplot as plt\n",
    "import seaborn as sns\n",
    "\n",
    "# Assuming hawks_df and remaining have already been defined as per your code snippet\n",
    "# Filter the DataFrame for the 2022 season\n",
    "hawks_df = df[(df['team'] == 'ATL') & (df['season'] == 2022)]\n",
    "remaining = df[(df['team'] != 'ATL') & (df['season'] == 2022)]\n",
    "\n",
    "# Create a new DataFrame for plotting that combines the two groups\n",
    "combined_df = pd.concat([hawks_df.assign(Group='Hawks'), remaining.assign(Group='League')])\n",
    "\n",
    "# Create the boxplots for 'ortg' and 'drtg'\n",
    "plt.figure(figsize=(12, 6))\n",
    "\n",
    "# Boxplot for 'ortg'\n",
    "plt.subplot(1, 2, 1)  # 1 row, 2 columns, 1st subplot\n",
    "sns.boxplot(x='Group', y='ortg', data=combined_df)\n",
    "plt.title('Offensive Rating (ORTG) - Hawks vs League')\n",
    "\n",
    "# Boxplot for 'drtg'\n",
    "plt.subplot(1, 2, 2)  # 1 row, 2 columns, 2nd subplot\n",
    "sns.boxplot(x='Group', y='drtg', data=combined_df)\n",
    "plt.title('Defensive Rating (DRTG) - Hawks vs League')\n",
    "\n",
    "plt.tight_layout()  # Adjust subplots to fit into the figure area.\n",
    "plt.show()\n"
   ]
  },
  {
   "cell_type": "code",
   "execution_count": null,
   "metadata": {},
   "outputs": [
    {
     "name": "stdout",
     "output_type": "stream",
     "text": [
      "Number of NaN values in 'ortg': 0\n",
      "Number of NaN values in 'won': 0\n"
     ]
    }
   ],
   "source": [
    "print(f\"Number of NaN values in 'ortg': {nan_count_ortg}\")\n",
    "print(f\"Number of NaN values in 'won': {nan_count_won}\")"
   ]
  }
 ],
 "metadata": {
  "kernelspec": {
   "display_name": "Python 3",
   "language": "python",
   "name": "python3"
  },
  "language_info": {
   "codemirror_mode": {
    "name": "ipython",
    "version": 3
   },
   "file_extension": ".py",
   "mimetype": "text/x-python",
   "name": "python",
   "nbconvert_exporter": "python",
   "pygments_lexer": "ipython3",
   "version": "3.11.5"
  }
 },
 "nbformat": 4,
 "nbformat_minor": 2
}
